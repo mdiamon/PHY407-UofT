{
 "cells": [
  {
   "cell_type": "markdown",
   "id": "a3ddacb7-c031-40cb-b93f-26a5eea72174",
   "metadata": {},
   "source": [
    "## 1. Numerical Error"
   ]
  },
  {
   "cell_type": "markdown",
   "id": "ed4782c0-5d5e-4978-8330-31fed011a720",
   "metadata": {},
   "source": [
    "## Part (a)\n",
    "Write code to generate an array of length $N$, filled with random numbers from a Gaussian distribution (with mean $x$ and standard deviation $\\sigma$), and make a histogram (with $m$ bins) of the array values. (You are encouraged to import functions from numpy and matplotlib.pyplot) Test this code, performing at least two sanity checks to make sure it's working properly."
   ]
  },
  {
   "cell_type": "markdown",
   "id": "5380753d-6433-4d15-8853-b620146f9d65",
   "metadata": {},
   "source": [
    "## Part (b)\n",
    "Now write a function to: generate two arrays as in the previous part (where the first Gaussian has  $x_1,\\sigma_1$ and the second Gaussian has $x_2,\\sigma_2$), make a third array that is the element-wise sum of these two arrays, and make a histogram of the 'array values. The function should take $x_1,\\sigma_1, x_2, \\sigma_2$ as arguments."
   ]
  },
  {
   "cell_type": "markdown",
   "id": "221b968d-e8fe-41b6-bbec-44e5750681b5",
   "metadata": {},
   "source": [
    "## Part (c)\n",
    "\n",
    "Recall from your physics labs, when you make repeated measurements of a quantity, the measurements follow a Gaussian distribution, where the mean (hopefully) represents the 'true' value of the quantity and the standard deviation represents the statistical uncertainty (error) on the measurement. \n",
    "If you make repeated measurements of two different quantities, and use these two quantities to calculate a third quantity, the error propagates, so you have to use error propagation formulas to figure out the uncertainty on the third quantity.\n",
    "\n",
    "Numerical errors in calculations propagate in a similar manner. We can represent the numerical error on stored value $x$ as $\\sigma$, and define our fractional error constant as $C$ such that $\\sigma = C |x|$.\n",
    "\n",
    "Plugging this into the previous part, we get $\\sigma_1 = C |x_1|, \\sigma_2 = C |x_2|$. Try this with: $N=10^6, m=100, C=10^{-14}, x_1 = 100, x_2 = -100$. (For the purposes of this exercise, we're using a much larger value of $C$ than the machine precision, so that we can see its effect.) Now try again with different mean values: $x_1 = 1.0, x_2 = -1.0$\n",
    "\n",
    "Hopefully, you now see visually why adding a positive number to a negative number, where both have large absolutely values, can produce large errors."
   ]
  },
  {
   "cell_type": "markdown",
   "id": "4793fbbc-6e00-4728-ac93-53ac2ee40f71",
   "metadata": {},
   "source": [
    "# 2. Approximation Error"
   ]
  },
  {
   "cell_type": "markdown",
   "id": "b05efffc-fe14-4a5e-a257-12f69f7122de",
   "metadata": {
    "slideshow": {
     "slide_type": "subslide"
    }
   },
   "source": [
    "Consider this system representing phasor rotation in the complex plane:\n",
    "    $$\\dot Z = i\\omega Z, \\quad\\text{given}\\quad Z_0 = Z(t=0).$$\n",
    "    \n",
    "The analytical solution is:\n",
    "    $Z(t) = Z_0 \\exp(i\\omega t).$\n",
    "\n",
    "How can we solve it numerically? We could try using its Taylor expansion:\n",
    "$$\\dot Z(t) = \\frac{Z(t+\\Delta t)-Z(t)}{\\Delta t} + H.O.T. = i\\omega Z(t).$$\n",
    "And use a simple algorithm such as: \n",
    "* Start with $Z_0$ = $Z(t=0)=Z_{old}$,\n",
    "* $Z_{new} = (1+i\\omega \\Delta t)Z_{old}$,\n",
    "* repeat for a large number $n$ of timesteps until we complete a full rotation\n",
    "\n",
    "It turns out this simple algorithm is unstable, because of the accumulation of error."
   ]
  },
  {
   "cell_type": "markdown",
   "id": "47cfb73c-d212-4f27-a113-1f80b452e009",
   "metadata": {},
   "source": [
    "## Part (a)\n",
    "Write the code to implement the above algorithm, with $\\omega, Z_0, n$ as parameters that can be set in the code. You should end up with an array of $t$ values and an array of $Z$ values covering a full rotation.\n",
    "\n",
    "You may want to make use of numpy.pi"
   ]
  },
  {
   "cell_type": "markdown",
   "id": "1bd389de-5c8d-42ab-b9e1-619f0d6a786f",
   "metadata": {},
   "source": [
    "## Part (b)\n",
    "Using the code in the previous part, plot $|Z|(t)$ (absolute value of $Z$, as a function of $t$) for $n=200,Z_0=1,\\omega=1$Hz . Is the result what you expected? Why?"
   ]
  },
  {
   "cell_type": "code",
   "execution_count": null,
   "id": "c4b92133-296d-47c7-8bfc-fda0c3d2f854",
   "metadata": {},
   "outputs": [],
   "source": []
  }
 ],
 "metadata": {
  "kernelspec": {
   "display_name": "Python 3 (ipykernel)",
   "language": "python",
   "name": "python3"
  },
  "language_info": {
   "codemirror_mode": {
    "name": "ipython",
    "version": 3
   },
   "file_extension": ".py",
   "mimetype": "text/x-python",
   "name": "python",
   "nbconvert_exporter": "python",
   "pygments_lexer": "ipython3",
   "version": "3.11.9"
  }
 },
 "nbformat": 4,
 "nbformat_minor": 5
}
