{
 "cells": [
  {
   "cell_type": "markdown",
   "metadata": {
    "slideshow": {
     "slide_type": "slide"
    }
   },
   "source": [
    "This week's lecture topic: numerical errors (from textbook, chapter 4)\n",
    "\n",
    "In lab, we'll also do some Linux command-line basics"
   ]
  },
  {
   "cell_type": "markdown",
   "metadata": {
    "slideshow": {
     "slide_type": "slide"
    },
    "tags": []
   },
   "source": [
    "# Numerical errors\n",
    "\n",
    "Aside from errors in programming or discretizing the physical model, there are 2 types of errors in computations:\n",
    "1. Rounding errors: errors in how the computer stores or manipulates numbers.\n",
    "2. Approximation errors (sometimes called truncation errors): errors in approximations to various functions or methods.\n",
    "\n",
    "Reason: computers are machines, with inherent limitations."
   ]
  },
  {
   "cell_type": "markdown",
   "metadata": {
    "slideshow": {
     "slide_type": "subslide"
    },
    "tags": []
   },
   "source": [
    "## Integers and floats\n",
    "\n",
    "How does a computer represent a number?\n",
    "\n",
    "* Variables `a`, `b` and `c` below are all equal to 1000.\n",
    "* Yet, `a` is treated very differently by da Python than `b` and `c`:"
   ]
  },
  {
   "cell_type": "code",
   "execution_count": 15,
   "metadata": {
    "scrolled": true,
    "tags": []
   },
   "outputs": [
    {
     "name": "stdout",
     "output_type": "stream",
     "text": [
      "The type of a is <class 'int'>\n",
      "The type of a is <class 'float'>\n",
      "The type of a is <class 'float'>\n"
     ]
    }
   ],
   "source": [
    "a = 1000\n",
    "b = 1000.\n",
    "c = 1e3\n",
    "print('The type of a is', type(a))\n",
    "print('The type of a is', type(b))\n",
    "print('The type of a is', type(c))\n"
   ]
  },
  {
   "cell_type": "markdown",
   "metadata": {
    "tags": []
   },
   "source": [
    "## Error #1: rounding errors"
   ]
  },
  {
   "cell_type": "markdown",
   "metadata": {
    "slideshow": {
     "slide_type": "subslide"
    },
    "tags": []
   },
   "source": [
    "### General principle\n",
    "\n",
    "* Integer numbers: python does not limit the number of digits stored. Can cause problems!"
   ]
  },
  {
   "cell_type": "code",
   "execution_count": 13,
   "metadata": {
    "scrolled": true,
    "slideshow": {
     "slide_type": "subslide"
    }
   },
   "outputs": [
    {
     "name": "stdout",
     "output_type": "stream",
     "text": [
      "10715086071862673209484250490600018105614048117055336074437503883703510511249361224931983788156958581275946729175531468251871452856923140435984577574698574803934567774824230985421074605062371141877954182153046474983581941267398767559165543946077062914571196477686542167660429831652624386837205668069376\n"
     ]
    }
   ],
   "source": [
    "from numpy import iinfo, int32, int64\n",
    "#iinfo(int32).max\n",
    "print(2**1000)\n"
   ]
  },
  {
   "cell_type": "markdown",
   "metadata": {
    "slideshow": {
     "slide_type": "subslide"
    }
   },
   "source": [
    "* Non-integer numbers with more than 16 significant figures: **rounding** after 16 figures.\n",
    "\n",
    "* Each mathematical operation (FLOP, Floating-point Operation) introduces errors in the 16th digit. You can’t assume \n",
    "\n",
    "    `1.3 + 2.4 = 3.7`, \n",
    "\n",
    "    it might be \n",
    "\n",
    "    `3.699999999999999` \n",
    "    \n",
    "    even though the 2 numbers you are adding only have 2 significant figures.\n",
    "\n",
    "* Know this, accept it, work with it. You are better at adding 1.3 and 2.4 than your computer, but you are much slower. This is why we use computers."
   ]
  },
  {
   "cell_type": "markdown",
   "metadata": {
    "slideshow": {
     "slide_type": "subslide"
    }
   },
   "source": [
    "There are also limitations as to the largest number representable in Python, the closest to zero, etc.\n",
    "If you want to know what they are on your machine, you can run the code below:"
   ]
  },
  {
   "cell_type": "code",
   "execution_count": 14,
   "metadata": {
    "slideshow": {
     "slide_type": "subslide"
    }
   },
   "outputs": [
    {
     "name": "stdout",
     "output_type": "stream",
     "text": [
      "attributes you can access in finfo(float64)  ['__class__', '__delattr__', '__dict__', '__dir__', '__doc__', '__eq__', '__format__', '__ge__', '__getattribute__', '__gt__', '__hash__', '__init__', '__init_subclass__', '__le__', '__lt__', '__module__', '__ne__', '__new__', '__reduce__', '__reduce_ex__', '__repr__', '__setattr__', '__sizeof__', '__str__', '__subclasshook__', '__weakref__', '_finfo_cache', '_init', '_machar', '_str_eps', '_str_epsneg', '_str_max', '_str_resolution', '_str_smallest_normal', '_str_smallest_subnormal', '_str_tiny', 'bits', 'dtype', 'eps', 'epsneg', 'iexp', 'machar', 'machep', 'max', 'maxexp', 'min', 'minexp', 'negep', 'nexp', 'nmant', 'precision', 'resolution', 'smallest_normal', 'smallest_subnormal', 'tiny']\n"
     ]
    }
   ],
   "source": [
    "from numpy import finfo, float64, float32\n",
    "# float64 contains double-precision floats, float32 is single-precision\n",
    "print(\"attributes you can access in finfo(float64) \", dir(finfo(float64)))\n"
   ]
  },
  {
   "cell_type": "code",
   "execution_count": 28,
   "metadata": {
    "slideshow": {
     "slide_type": "subslide"
    }
   },
   "outputs": [
    {
     "name": "stdout",
     "output_type": "stream",
     "text": [
      "maximum numbers in 64 bit and 32 bit precision:  1.7976931348623157e+308 3.4028235e+38\n"
     ]
    }
   ],
   "source": [
    "print( \"maximum numbers in 64 bit and 32 bit precision: \",\n",
    "      finfo(float64).max, finfo(float32).max)\n"
   ]
  },
  {
   "cell_type": "code",
   "execution_count": 29,
   "metadata": {
    "slideshow": {
     "slide_type": "fragment"
    }
   },
   "outputs": [
    {
     "name": "stdout",
     "output_type": "stream",
     "text": [
      "minimum numbers in 64 bit and 32 bit precision:  -1.7976931348623157e+308 -3.4028235e+38\n"
     ]
    }
   ],
   "source": [
    "print( \"minimum numbers in 64 bit and 32 bit precision: \",\n",
    "      finfo(float64).min, finfo(float32).min)\n"
   ]
  },
  {
   "cell_type": "code",
   "execution_count": 30,
   "metadata": {
    "slideshow": {
     "slide_type": "fragment"
    }
   },
   "outputs": [
    {
     "name": "stdout",
     "output_type": "stream",
     "text": [
      "epsilon for 64 bit and 32 bit:  2.220446049250313e-16 1.1920929e-07\n"
     ]
    }
   ],
   "source": [
    "print( \"epsilon for 64 bit and 32 bit: \",\n",
    "      finfo(float64).eps, finfo(float32).eps)\n"
   ]
  },
  {
   "cell_type": "code",
   "execution_count": 15,
   "metadata": {
    "slideshow": {
     "slide_type": "subslide"
    }
   },
   "outputs": [
    {
     "name": "stdout",
     "output_type": "stream",
     "text": [
      "Should be epsilon for this machine if it's 64 bit: 2.220446049250313e-16\n"
     ]
    }
   ],
   "source": [
    "print( \"Should be epsilon for this machine if it's 64 bit:\",\n",
    "      float64(1)+finfo(float64).eps-float64(1))\n"
   ]
  },
  {
   "cell_type": "markdown",
   "metadata": {
    "slideshow": {
     "slide_type": "fragment"
    }
   },
   "source": [
    "This tells us that the error made on a given evaluation (here `float64(1)`) is always the same for a given software and machine.\n",
    "\n",
    "It may vary across software and hardware configurations."
   ]
  },
  {
   "cell_type": "code",
   "execution_count": 16,
   "metadata": {
    "slideshow": {
     "slide_type": "subslide"
    }
   },
   "outputs": [
    {
     "name": "stdout",
     "output_type": "stream",
     "text": [
      "Should be zero, and it is 0.0\n"
     ]
    }
   ],
   "source": [
    "print( \"Should be zero, and it is\",\n",
    "      float64(1)+finfo(float64).eps/2.0-float64(1))\n"
   ]
  },
  {
   "cell_type": "markdown",
   "metadata": {
    "slideshow": {
     "slide_type": "fragment"
    }
   },
   "source": [
    "Here, adding 1/2-of the roundoff error to one didn't register, it was too small of Python to \"notice\"."
   ]
  },
  {
   "cell_type": "markdown",
   "metadata": {
    "slideshow": {
     "slide_type": "subslide"
    },
    "tags": []
   },
   "source": [
    "### Simple examples"
   ]
  },
  {
   "cell_type": "markdown",
   "metadata": {
    "slideshow": {
     "slide_type": "subslide"
    }
   },
   "source": [
    "7/3 - 4/3 - 1 = 0 , right? Well..."
   ]
  },
  {
   "cell_type": "code",
   "execution_count": 17,
   "metadata": {},
   "outputs": [
    {
     "data": {
      "text/plain": [
       "2.220446049250313e-16"
      ]
     },
     "execution_count": 17,
     "metadata": {},
     "output_type": "execute_result"
    }
   ],
   "source": [
    "7./3. - 4./3 - 1.\n"
   ]
  },
  {
   "cell_type": "markdown",
   "metadata": {
    "cell_style": "split",
    "slideshow": {
     "slide_type": "subslide"
    },
    "tags": []
   },
   "source": [
    "And how about this one: under what circumstances is the following possible?\n",
    "$$(x+y)+z \\neq x + (y + z)$$"
   ]
  },
  {
   "cell_type": "code",
   "execution_count": 7,
   "metadata": {
    "cell_style": "split",
    "slideshow": {
     "slide_type": "subslide"
    }
   },
   "outputs": [
    {
     "name": "stdout",
     "output_type": "stream",
     "text": [
      "(x+y)+z = 1.0\n",
      "x+(y+z) = 0.0\n"
     ]
    }
   ],
   "source": [
    "x = 1.e16\n",
    "y = -1.e16\n",
    "z = 1.\n",
    "\n",
    "print(\"(x+y)+z = {}\".format((x+y)+z))\n",
    "print(\"x+(y+z) = {}\".format(x+(y+z)))\n"
   ]
  },
  {
   "cell_type": "markdown",
   "metadata": {
    "cell_style": "split",
    "slideshow": {
     "slide_type": "subslide"
    },
    "tags": []
   },
   "source": [
    "### Error constant\n",
    "\n",
    "* Newman defines $\\sigma = C |x|$.\n",
    "    * $x =$ number you want to represent.\n",
    "    * $\\sigma =$ standard deviation of error \n",
    "    * $C =$ fractional error for a single floating point number"
   ]
  },
  {
   "cell_type": "markdown",
   "metadata": {
    "cell_style": "split",
    "slideshow": {
     "slide_type": "-"
    }
   },
   "source": [
    "* For 64 bit float: $C = O(10^{-16}) \\sim$ machine precision $\\epsilon_M$.\n",
    "* We cannot know a number better than this on the computer (otherwise it wouldn't be a limit on the precision).\n",
    "* This fractional error is different on different computers but should not depend on $x$.\n",
    "\n",
    "Note: **Fractional error** of a calculated value is not the same as **relative error** of a calculated value compared to a true value. Relative error of calculated value $x$ compared to true value $y$ is $(x-y)/y$."
   ]
  },
  {
   "cell_type": "markdown",
   "metadata": {
    "slideshow": {
     "slide_type": "subslide"
    },
    "tags": []
   },
   "source": [
    "### Propagation of errors\n",
    "\n",
    "Errors propagate statistically like they do in experimental physics."
   ]
  },
  {
   "cell_type": "markdown",
   "metadata": {
    "slideshow": {
     "slide_type": "subslide"
    }
   },
   "source": [
    "These errors in differences become **very important** when taking numerical derivatives:\n",
    "$$\\frac{df}{dt} \\approx \\frac{f_{i+1} - f_i}{\\Delta t} = \\text{danger zone}$$\n",
    "as we will see later."
   ]
  },
  {
   "cell_type": "markdown",
   "metadata": {
    "slideshow": {
     "slide_type": "subslide"
    },
    "tags": []
   },
   "source": [
    "### One important rule\n",
    "\n",
    "Never, ever. Never ever ever. Do something like this:"
   ]
  },
  {
   "cell_type": "code",
   "execution_count": 43,
   "metadata": {
    "slideshow": {
     "slide_type": "-"
    }
   },
   "outputs": [
    {
     "name": "stdout",
     "output_type": "stream",
     "text": [
      "7/3 - 4/3 - 1 != 0\n"
     ]
    }
   ],
   "source": [
    "if 7./3. - 4./3. - 1. == 0:\n",
    "    print('7/3 - 4/3 - 1 == 0')\n",
    "else:\n",
    "    print('7/3 - 4/3 - 1 != 0')\n",
    "    "
   ]
  },
  {
   "cell_type": "markdown",
   "metadata": {
    "slideshow": {
     "slide_type": "subslide"
    }
   },
   "source": [
    "Instead:"
   ]
  },
  {
   "cell_type": "code",
   "execution_count": 44,
   "metadata": {
    "slideshow": {
     "slide_type": "fragment"
    }
   },
   "outputs": [
    {
     "name": "stdout",
     "output_type": "stream",
     "text": [
      "7/3 - 4/3 - 1 == 0 (or close enough anyway...)\n"
     ]
    }
   ],
   "source": [
    "delta = 1e-15\n",
    "if abs(7./3. - 4./3. - 1.) < delta:\n",
    "    print('7/3 - 4/3 - 1 == 0 (or close enough anyway...)')\n",
    "else:\n",
    "    print('7/3 - 4/3 - 1 != 0')\n",
    "    "
   ]
  },
  {
   "cell_type": "markdown",
   "metadata": {
    "slideshow": {
     "slide_type": "subslide"
    },
    "tags": []
   },
   "source": [
    "## Error #2: Approximation errors\n",
    "\n",
    "* errors introduced in functions due to approximations\n",
    "* very important to consider for **integration** & **differentiation** algorithms\n",
    "* we approximate these operations and there is an error in that approximation\n",
    "* Most integration/differentiation algorithms are somehow based on Taylor series expansions, so you can usually figure out the approximation error by looking at the terms in the Taylor expansion that you ignore.\n",
    "\n",
    "This should become clearer once we illustrate it with numerical integrations. We'll also do a simple illustration in the informal lab exercises."
   ]
  },
  {
   "cell_type": "code",
   "execution_count": null,
   "metadata": {},
   "outputs": [],
   "source": []
  }
 ],
 "metadata": {
  "celltoolbar": "Slideshow",
  "kernelspec": {
   "display_name": "Python 3 (ipykernel)",
   "language": "python",
   "name": "python3"
  },
  "language_info": {
   "codemirror_mode": {
    "name": "ipython",
    "version": 3
   },
   "file_extension": ".py",
   "mimetype": "text/x-python",
   "name": "python",
   "nbconvert_exporter": "python",
   "pygments_lexer": "ipython3",
   "version": "3.11.9"
  },
  "latex_metadata": {
   "affiliation": "PHY407, University of Toronto",
   "author": "Nico Grisouard",
   "title": "Lecture 1: python basics"
  }
 },
 "nbformat": 4,
 "nbformat_minor": 4
}
