{
 "cells": [
  {
   "cell_type": "markdown",
   "metadata": {
    "slideshow": {
     "slide_type": "slide"
    }
   },
   "source": [
    "*Supporting textbook chapters: 5.10, 5.11*"
   ]
  },
  {
   "cell_type": "markdown",
   "metadata": {
    "tags": []
   },
   "source": [
    "# Numerical derivatives"
   ]
  },
  {
   "cell_type": "markdown",
   "metadata": {
    "slideshow": {
     "slide_type": "slide"
    }
   },
   "source": [
    "* Simpler than numerical integration, in  a way.\n",
    "* Computing errors is usually a doozey though.\n",
    "* Based on Taylor series approximations.\n",
    "\n",
    "\n",
    "1. Forward difference approximation: $\\displaystyle f'(x) \\approx \\frac{f(x+h) - f(x)}{h}$,\n",
    "2. Backward difference approximation: $\\displaystyle f'(x) \\approx \\frac{f(x) - f(x-h)}{h}$,\n"
   ]
  },
  {
   "cell_type": "markdown",
   "metadata": {
    "slideshow": {
     "slide_type": "subslide"
    }
   },
   "source": [
    "## Estimation of approximation error\n",
    "\n",
    "Use Taylor series to find error in these approximations:\n",
    "$$ f(x+h) = f(x) + hf'(x) + \\frac{h^2}{2}f''(x) + h.o.t.$$\n",
    "Isolate for $f'(x)$:\n",
    "$$f'(x) = \\frac{f(x+h) - f(x)}{h} - \\frac{h}2 f''(x) + h.o.t.$$\n",
    "$\\Rightarrow$ error is 1st-order in $h$ (same is true for backward difference method)."
   ]
  },
  {
   "cell_type": "markdown",
   "metadata": {
    "slideshow": {
     "slide_type": "subslide"
    }
   },
   "source": [
    "## Central differences\n",
    "\n",
    "* Using Taylor series to find sneaky improvements to finite difference (FD) schemes.\n",
    "* Example: central FD method:\n",
    "$$f'(x) \\approx \\frac{f(x+h) - f(x-h)}{2h}.$$\n",
    "* Notice it still only involves subtracting 2 points, it's just that the location of the 2 points is different."
   ]
  },
  {
   "cell_type": "markdown",
   "metadata": {
    "slideshow": {
     "slide_type": "subslide"
    }
   },
   "source": [
    "* Error:\n",
    "$$f(x+h) = f(x) + hf'(x) + \\frac{h^2}{2}f''(x) + \\frac{h^3}{6}f'''(x) + h.o.t.$$\n",
    "$$f(x-h) = f(x) - hf'(x) + \\frac{h^2}{2}f''(x) - \\frac{h^3}{6}f'''(x) + h.o.t.$$"
   ]
  },
  {
   "cell_type": "markdown",
   "metadata": {},
   "source": [
    "* Subtract:\n",
    "$$ f(x+h) - f(x-h) = 2hf'(x) + \\frac{h^3}{3}f'''(x) + h.o.t.$$\n",
    "* Isolate for $f'(x)$ and add:\n",
    "$$f'(x) = \\frac{f(x+h) - f(x-h)}{2h} - \\boxed{\\frac{h^2}{3}f'''(x)} + h.o.t.$$"
   ]
  },
  {
   "cell_type": "markdown",
   "metadata": {
    "slideshow": {
     "slide_type": "subslide"
    }
   },
   "source": [
    "* So we see that this formula is accurate to 2nd order in $h$.\n",
    "* Can get higher-order methods by including more points (see table 5.1 on page 196).\n",
    "* Might have to do different things near the boundaries\n",
    "* Partial derivatives: similar techniques\n",
    "* Higher order derivatives (e.g. $f''$): also similar techniques."
   ]
  },
  {
   "cell_type": "markdown",
   "metadata": {
    "slideshow": {
     "slide_type": "subslide"
    }
   },
   "source": [
    "## Roundoff error\n",
    "\n",
    "* Let’s take another look at this formula:\n",
    "$$f(x+h) = f(x) + hf'(x) + \\frac{h^2}{2}f''(x) + h.o.t.$$\n",
    "* What happens when we consider roundoff error? Recall that subtracting numbers that are close to each other in value, and yield an answer close to 0, is dangerous!\n",
    "* Each of the terms $f(x+h)$ and $f(x)$ have error $\\sim C|f(x)|$. Their difference will have approximate error $2Cf(x)$ (\"worst case\" error).\n",
    "* So in fact there are two sources of error and this leads to (eqn. (5.91) in book):\n",
    "$$\\epsilon = \\underbrace{\\frac{2C|f(x)|}{h}}_{\\text{round-off error}} + \\underbrace{\\frac{1}{2}h |f''(x)| + h.o.t.}_{\\text{approximation error}}$$"
   ]
  },
  {
   "cell_type": "markdown",
   "metadata": {
    "slideshow": {
     "slide_type": "subslide"
    }
   },
   "source": [
    "* There's a limit to the improvement you can obtain by going to finer resolution\n",
    "* The precision expected on differentiation is orders of magnitude less than that of other operations we have discussed."
   ]
  },
  {
   "cell_type": "markdown",
   "metadata": {},
   "source": [
    "# Interpolation"
   ]
  },
  {
   "cell_type": "markdown",
   "metadata": {
    "tags": []
   },
   "source": [
    "## Linear ##"
   ]
  },
  {
   "cell_type": "markdown",
   "metadata": {},
   "source": [
    "Assume the function follows a straight line from $f(a)$ to $f(b)$. Estimate $f(x)$ for $a < x < b$."
   ]
  },
  {
   "cell_type": "markdown",
   "metadata": {},
   "source": [
    "$f(x) \\approx y + z$ , $y = m(x-a)$\n",
    "\n",
    "Therefore:\n",
    "\n",
    "$f(x) \\approx \\frac{f(b) - f(a)}{b-a}(x-a) + f(a) $\n",
    "\n",
    "$~~~~~~~ = \\frac{(b-x)f(a) + (x-a)f(b)}{b-a} $ fundamental formula of linear interpolation\n",
    "\n",
    "* Can also use this to extrapolate the function to points $x > b$ or $x < a$\n",
    "* But the further you go, the less likely it is that the extrapolation will be accurate"
   ]
  },
  {
   "cell_type": "markdown",
   "metadata": {},
   "source": [
    "### Error"
   ]
  },
  {
   "cell_type": "markdown",
   "metadata": {},
   "source": [
    "* Leading-order term in approximation error: $(a-x)(b-x)f''(x)$\n",
    "  * Vanishes as $x$ approaches $a$ or $b$\n",
    "  * Largest in the middle of the interval, assuming $f''(x)$ varies slowly\n",
    "  * Worst-case error is $O(h^2)$"
   ]
  },
  {
   "cell_type": "markdown",
   "metadata": {},
   "source": [
    "* Rounding error not a big problem, since fundamental formula involves sum (not difference) of function values at two closely spaced points"
   ]
  },
  {
   "cell_type": "markdown",
   "metadata": {},
   "source": [
    "## More complicated interpolations"
   ]
  },
  {
   "cell_type": "markdown",
   "metadata": {},
   "source": [
    "* Lagrange interpolation methods: use quadratics or higher polynomials\n",
    "* To use polynomial of degree n, we need to know the value of the function at n+1 or more points\n",
    "\n",
    "* For large n, using (n-1)th order polynomial doesn't work very well\n",
    "  * because very high order polynomials tend to have a lot of wiggles, therefore can deviate badly in the intervals between points\n",
    "  * better to use many quadratics or cubics on smaller sets of adjacent points\n",
    "    * but slope changes abruptly at the join-points between polynomials, resulting in uneven interpolation\n",
    "  * even better to use splines: use the derivatives of the polynomials at the join-points, so the interpolation has smooth slope everywhere\n",
    "    * cubic spline is most commonly used"
   ]
  },
  {
   "cell_type": "code",
   "execution_count": null,
   "metadata": {},
   "outputs": [],
   "source": []
  }
 ],
 "metadata": {
  "celltoolbar": "Slideshow",
  "kernelspec": {
   "display_name": "Python 3 (ipykernel)",
   "language": "python",
   "name": "python3"
  },
  "language_info": {
   "codemirror_mode": {
    "name": "ipython",
    "version": 3
   },
   "file_extension": ".py",
   "mimetype": "text/x-python",
   "name": "python",
   "nbconvert_exporter": "python",
   "pygments_lexer": "ipython3",
   "version": "3.10.9"
  }
 },
 "nbformat": 4,
 "nbformat_minor": 4
}
