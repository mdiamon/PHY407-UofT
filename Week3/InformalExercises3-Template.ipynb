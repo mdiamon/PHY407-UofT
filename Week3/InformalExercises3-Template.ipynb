{
 "cells": [
  {
   "cell_type": "markdown",
   "metadata": {},
   "source": [
    "# 1. Bessel Functions"
   ]
  },
  {
   "cell_type": "markdown",
   "metadata": {},
   "source": [
    "These appear in various physics problems, and are given by:\n",
    "$$J_m(x) = \\frac{1}{\\pi} \\int_0^\\pi \\cos(m \\theta - x \\sin \\theta) d\\theta $$\n",
    "where $m$ is a whole number and $x$ is a non-negative real number."
   ]
  },
  {
   "cell_type": "markdown",
   "metadata": {},
   "source": [
    "## Part (a) \n",
    "\n",
    "Write pseudocode for your own Python function that calculates the value of the Bessel function\n",
    "$J_m(x)$, taking $m$ and $x$ as inputs, using Gaussian Quadrature with $N$ points. $N$ is a parameter that you set in your code. You can use the gaussxw and gaussxwab functions from the previous lab exercises."
   ]
  },
  {
   "cell_type": "markdown",
   "metadata": {},
   "source": [
    "## Part (b)\n",
    "Now write the actual code."
   ]
  },
  {
   "cell_type": "markdown",
   "metadata": {},
   "source": [
    "## Part (c)\n",
    "Use the code from the previous part  to make a plot, on a single graph, of the Bessel\n",
    "functions $J_0, J_1, J_2$ as a function of $x$ from $x = 0$ to $x = 20$."
   ]
  },
  {
   "cell_type": "markdown",
   "metadata": {},
   "source": [
    "## Part (d)\n",
    "scipy.special includes some special functions that are a little too exotic to be part of NumPy. One of such special function is the Bessel function, called jv . Compare graphically the difference between the results of your Bessel function from the previous part, and the results of the SciPy version."
   ]
  },
  {
   "cell_type": "code",
   "execution_count": 4,
   "metadata": {},
   "outputs": [],
   "source": [
    "from scipy.special import jv"
   ]
  },
  {
   "cell_type": "markdown",
   "metadata": {},
   "source": [
    "# 2. Black Body Radiation"
   ]
  },
  {
   "cell_type": "markdown",
   "metadata": {
    "jp-MarkdownHeadingCollapsed": true
   },
   "source": [
    "The black body function can be written as a function of wavenumber $\\nu$ and temperature $T$, using the Planck constant $h$, the speed of light $c$ and the Boltzmann constant $k$:\n",
    "$$B = \\frac{2h\\nu^3}{c^2(\\exp{\\frac{h\\nu}{kT}}-1)}$$\n",
    "The total energy per unit area emitted by a black body is then:\n",
    "$$W = \\pi\\int_0^\\infty B d\\nu $$\n",
    "It follows Stefan's law:\n",
    "$W = \\sigma T^4$,\n",
    "where $\\sigma$ is the Stefan-Boltzmann constant. Therefore\n",
    "$$\\sigma = \\frac{\\pi\\int_0^\\infty B d\\nu}{T^4} $$\n",
    "(Of course, you remember all this if I was your prof for PHY252.)"
   ]
  },
  {
   "cell_type": "markdown",
   "metadata": {},
   "source": [
    "Equivalently, using the change of variables $x = \\frac{h \\nu}{kT}$:\n",
    "$$\\sigma = C_1 \\int_0^\\infty\\frac{x^3}{e^x-1} dx$$\n",
    "with $C_1 = \\frac{2 \\pi k^4}{c^2 h^3}$"
   ]
  },
  {
   "cell_type": "markdown",
   "metadata": {},
   "source": [
    "We can convert the limits of integration to [0,1] by another variable transform\n",
    "$ z = \\frac{x}{1+x}$:\n",
    "$$\\int_0^\\infty f(x)dx = \\int_0^1 \\frac{1}{(1-z)^2}f\\left(\\frac{z}{1-z}\\right)dz = \\int_0^1 g(z) dz$$\n",
    "We want to perform a numerical integral over the domain [0,1] in order to calculate $\\sigma$. "
   ]
  },
  {
   "cell_type": "markdown",
   "metadata": {},
   "source": [
    "## Part (a)\n",
    "Write code for the functions x(z), f(x), and g(z). "
   ]
  },
  {
   "cell_type": "markdown",
   "metadata": {},
   "source": [
    "## Part (b)\n",
    "Incorporating your functions from the previous part, write code to calculate $$\\int_0^\\infty\\frac{x^3}{e^x-1} dx$$ using Gaussian quadrature. Figure out for yourself what value of $N$ you need, to obtain an accuracy of about 5 digits."
   ]
  },
  {
   "cell_type": "markdown",
   "metadata": {},
   "source": [
    "## Part (c)\n",
    "Using the code from the previous part, calculate a value for the Stefan-Boltzmann constant in SI units, to three significant figures or more. Compare it to the value from NIST that is included in the scipy.constants package (https://docs.scipy.org/doc/scipy/reference/constants.html)"
   ]
  },
  {
   "cell_type": "code",
   "execution_count": 5,
   "metadata": {},
   "outputs": [],
   "source": [
    "from scipy.constants import Stefan_Boltzmann"
   ]
  },
  {
   "cell_type": "markdown",
   "metadata": {},
   "source": [
    "Note, the Scipy value is taken from the NIST database, and includes an uncertainty in the measurement, so it is the currently accepted value. Our integral doesn't need to be machine precision level because the actual constant is only known to 8 digits."
   ]
  },
  {
   "cell_type": "markdown",
   "metadata": {
    "tags": []
   },
   "source": [
    "# Fun with interpolation"
   ]
  },
  {
   "cell_type": "markdown",
   "metadata": {},
   "source": [
    "Here, I perform interpolation for the function $$y = \\frac{1}{2+x^2}$$"
   ]
  },
  {
   "cell_type": "code",
   "execution_count": null,
   "metadata": {
    "tags": []
   },
   "outputs": [],
   "source": [
    "from scipy.interpolate import CubicSpline, interp1d\n",
    "import matplotlib.pyplot as pltm\n",
    "\n",
    "# fake data to interpolate from\n",
    "x = np.arange(-10,10)\n",
    "y = 1./(2.+x**2)\n",
    "\n",
    "# points at which we want to interpolate\n",
    "xs = np.arange(-9, 9, 0.1)\n",
    "\n",
    "# Apply Linear interpolation\n",
    "linear_int = interp1d(x,y)\n",
    "ys_lin = linear_int(xs)\n",
    "\n",
    "# apply cubic spline\n",
    "cs = CubicSpline(x, y)\n",
    "ys_cub = cs(xs)\n",
    "  \n",
    "# plot linear interpolation\n",
    "pltm.plot(xs, ys_lin, 'o', label='linear')\n",
    "pltm.plot(xs, ys_cub, 'o', label='cubicspline')\n",
    "pltm.plot(x, y, '*', label='data')\n",
    "pltm.legend()\n",
    "pltm.show()"
   ]
  },
  {
   "cell_type": "markdown",
   "metadata": {},
   "source": [
    "## Exercise 6"
   ]
  },
  {
   "cell_type": "markdown",
   "metadata": {},
   "source": [
    "Replace the definition of y in the code above, to interpolate the following function:\n",
    "$$y = \\frac{1}{1+(2x)^2}$$"
   ]
  },
  {
   "cell_type": "markdown",
   "metadata": {
    "tags": []
   },
   "source": [
    "Show the plot. Is the cubic spline still nicer than the linear interpolation?"
   ]
  }
 ],
 "metadata": {
  "kernelspec": {
   "display_name": "Python 3 (ipykernel)",
   "language": "python",
   "name": "python3"
  },
  "language_info": {
   "codemirror_mode": {
    "name": "ipython",
    "version": 3
   },
   "file_extension": ".py",
   "mimetype": "text/x-python",
   "name": "python",
   "nbconvert_exporter": "python",
   "pygments_lexer": "ipython3",
   "version": "3.11.9"
  }
 },
 "nbformat": 4,
 "nbformat_minor": 4
}
