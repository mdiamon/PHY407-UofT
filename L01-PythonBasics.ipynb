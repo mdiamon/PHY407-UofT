{
 "cells": [
  {
   "cell_type": "markdown",
   "metadata": {
    "slideshow": {
     "slide_type": "skip"
    }
   },
   "source": [
    "*Supporting textbook chapters for week 1: 2, 3 and 4.3*\n",
    "\n",
    "This is an example of \"lecture notes\".\n",
    "As you will quickly find out, this course is by nature a lab course.\n",
    "Therefore, my \"lecture notes\" will not often follow the linear progression of regular lecture notes.\n",
    "This is particularly true for this first lecture, in which I merely want to give you pointers to do the first lab."
   ]
  },
  {
   "cell_type": "markdown",
   "metadata": {
    "slideshow": {
     "slide_type": "subslide"
    }
   },
   "source": [
    "# General Problem-Solving Approach\n",
    "\n",
    "1. **Math model:** often, but not always, continuous.\n",
    "2. **Translate and discretize:** set up discrete arrays of independent variables (e.g., $x$, $t$), dependent variables (e.g. $v(t)$, $a(t)$), and define operators on these variables ($dv/dt$, $ma$...) according to the model.\n",
    "3. **Initialize** parameters and variables appropriately. \n",
    "4. **Evaluate:** run algorithms (using the operators) on these variables. \n",
    "5. **Debug:** bang your head against the wall for awhile to figure out why it didn't work properly, fix it, repeat as many times as necessary.\n",
    "6. **Analyze:** some extra processing of the raw results (figures, etc.)\n",
    "7. **Sanity check:** ask yourself whether your analysis outputs make sense. If not, go back to step 5."
   ]
  },
  {
   "cell_type": "markdown",
   "metadata": {},
   "source": [
    "# Coding Tips"
   ]
  },
  {
   "cell_type": "markdown",
   "metadata": {},
   "source": [
    "**Modularity** is the concept of breaking up your code into pieces that are as independent as possible from each other.  That way, if anything goes wrong, you can test each piece independently.\n",
    "\n",
    "- Python scripts: define external functions for repetitive tasks. Place them in a separate file (called e.g. MyFunctions.py) in the same folder as your main code file. In your main file, import MyFunctions, and call and use the external functions.\n",
    "\n",
    "- Notebooks: define functions in dedicated cells. Run them before you run the cells containing your main code."
   ]
  },
  {
   "cell_type": "markdown",
   "metadata": {},
   "source": [
    "**Give your parameters and variables meaningful names**\n",
    "- reserve i, j, k, etc. for loop counters\n",
    "- careful about capitalization\n",
    "\n",
    "**Avoid hard-coding** parameter values. It should be easy to find and set these values somewhere near the top of your code. \n",
    "\n",
    "**Test your code as you go**, not just when it is finished.\n",
    "\n",
    "**Debugging**: \n",
    "- carefully read any error messages produced\n",
    "- add print statements to see intermediate values of variables\n",
    "- before you try looping with several iterations, try just one iteration\n",
    "- you may want to use a built-in debugger in an IDE\n",
    "- just because the code runs without errors, doesn't mean it's bug-free. Remember, there's almost always another bug sitting somewhere in your code.\n",
    "\n",
    "**Sanity check**: \n",
    "- are all output arrays the length you expected? do all the plots have the number of points (or histograms the number of entries) you expected?\n",
    "- are all output values the correct order of magnitude? \n",
    "- are all curves in your plots the expected shapes?\n",
    "- if possible, check the result (maybe for a simple case) analytically or by-hand or using a different computational method"
   ]
  },
  {
   "cell_type": "markdown",
   "metadata": {
    "slideshow": {
     "slide_type": "slide"
    },
    "tags": []
   },
   "source": [
    "# Pseudocode and Comments"
   ]
  },
  {
   "cell_type": "markdown",
   "metadata": {
    "slideshow": {
     "slide_type": "skip"
    }
   },
   "source": [
    "The concept of \"Pseudocode\" is loosely defined, see for example https://en.wikipedia.org/wiki/Pseudocode. In this lecture, I will use a **very** loose definition for it, i.e., mostly plain English with bullet points.\n",
    "You are free to use your own version. Just make sure that it is understandable by someone who speaks English and is vaguely familiar with the problem you're trying to solve."
   ]
  },
  {
   "cell_type": "markdown",
   "metadata": {
    "slideshow": {
     "slide_type": "fragment"
    }
   },
   "source": [
    "* Pseudocode is the planned version of your code. It describes your algorithm(s).\n",
    "* Writing pseudocode helps ensure that your planned logic for the algorithm is sound. Therefore you should write pseudocode before starting any actual code.\n",
    "* Pseudocode should be concise, logical, step-by-step.\n",
    "* Coding = turning your pseudocode $\\to$ specific programming language. You should be able to take your pseudocode and convert it into any typical programming language.\n",
    "* You may distribute your pseudocode throughout your real code, in the form of **comments**, as you go through the process of coding. Also **keep a copy of the pseudocode intact** so you can refer back to it, and ensure each block of code starts with a brief overview of what the block will do."
   ]
  },
  {
   "cell_type": "markdown",
   "metadata": {
    "slideshow": {
     "slide_type": "subslide"
    }
   },
   "source": [
    "Examples for sequential stuff:\n",
    "* Input: `READ`, `OBTAIN`, `GET`\n",
    "* Initialize: `SET`, `DEFINE`\n",
    "* Compute: `COMPUTE`, `CALCULATE`, `DETERMINE`\n",
    "* Add one: `INCREMENT`, `BUMP`\n",
    "* Output: `PRINT`, `DISPLAY`, `PLOT`, `WRITE`"
   ]
  },
  {
   "cell_type": "markdown",
   "metadata": {
    "slideshow": {
     "slide_type": "subslide"
    }
   },
   "source": [
    "Examples for conditions and loops:\n",
    "* `WHILE`, `IF-THEN-ELSE`, `REPEAT-UNTIL`, `CASE`, `FOR`\n",
    "\n",
    "Should also include calling functions:\n",
    "* `CALL`"
   ]
  },
  {
   "cell_type": "markdown",
   "metadata": {},
   "source": [
    "# Learning (or Reviewing) the Basics"
   ]
  },
  {
   "cell_type": "markdown",
   "metadata": {},
   "source": [
    "Ensure that you take the time this week to learn (or review) the material in Chapters 2 and 3 as this will be expected knowledge for all the future labs.\n",
    "Particularly useful review material includes:\n",
    "- Assigning variables: Sections 2.1, 2.2.1\n",
    "- Mathematical operations: Section 2.2.4\n",
    "- Loops: Sections 2.3 and 2.5\n",
    "- Lists and Arrays: Section 2.4\n",
    "- User defined functions: Section 2.6\n",
    "- Making basic graphs: Section 3.1"
   ]
  },
  {
   "cell_type": "code",
   "execution_count": null,
   "metadata": {},
   "outputs": [],
   "source": []
  }
 ],
 "metadata": {
  "celltoolbar": "Slideshow",
  "kernelspec": {
   "display_name": "Python 3 (ipykernel)",
   "language": "python",
   "name": "python3"
  },
  "language_info": {
   "codemirror_mode": {
    "name": "ipython",
    "version": 3
   },
   "file_extension": ".py",
   "mimetype": "text/x-python",
   "name": "python",
   "nbconvert_exporter": "python",
   "pygments_lexer": "ipython3",
   "version": "3.10.9"
  },
  "latex_metadata": {
   "affiliation": "PHY407, University of Toronto",
   "author": "Nico Grisouard",
   "title": "Lecture 1: python basics"
  }
 },
 "nbformat": 4,
 "nbformat_minor": 4
}
